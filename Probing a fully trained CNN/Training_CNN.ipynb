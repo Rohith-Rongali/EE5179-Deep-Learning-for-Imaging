{
  "nbformat": 4,
  "nbformat_minor": 0,
  "metadata": {
    "colab": {
      "provenance": [],
      "collapsed_sections": []
    },
    "kernelspec": {
      "name": "python3",
      "display_name": "Python 3"
    },
    "language_info": {
      "name": "python"
    },
    "accelerator": "GPU",
    "widgets": {
      "application/vnd.jupyter.widget-state+json": {
        "80812f7c1dc44ffb880dd80e7e6450f7": {
          "model_module": "@jupyter-widgets/controls",
          "model_name": "HBoxModel",
          "model_module_version": "1.5.0",
          "state": {
            "_dom_classes": [],
            "_model_module": "@jupyter-widgets/controls",
            "_model_module_version": "1.5.0",
            "_model_name": "HBoxModel",
            "_view_count": null,
            "_view_module": "@jupyter-widgets/controls",
            "_view_module_version": "1.5.0",
            "_view_name": "HBoxView",
            "box_style": "",
            "children": [
              "IPY_MODEL_9e0b9d22bc7d48d1a05e8927319876c5",
              "IPY_MODEL_b7080cc94a624925bbb447e755d88089",
              "IPY_MODEL_4a3ae8ffdcc74be6a3a038f59bc2239b"
            ],
            "layout": "IPY_MODEL_ca0ad60924a54de3a0ed6c9a9270e23c"
          }
        },
        "9e0b9d22bc7d48d1a05e8927319876c5": {
          "model_module": "@jupyter-widgets/controls",
          "model_name": "HTMLModel",
          "model_module_version": "1.5.0",
          "state": {
            "_dom_classes": [],
            "_model_module": "@jupyter-widgets/controls",
            "_model_module_version": "1.5.0",
            "_model_name": "HTMLModel",
            "_view_count": null,
            "_view_module": "@jupyter-widgets/controls",
            "_view_module_version": "1.5.0",
            "_view_name": "HTMLView",
            "description": "",
            "description_tooltip": null,
            "layout": "IPY_MODEL_ebd3a86b6c054291ad388192f91b5441",
            "placeholder": "​",
            "style": "IPY_MODEL_0446aeb4e095422980a7d31e1adddf1a",
            "value": "100%"
          }
        },
        "b7080cc94a624925bbb447e755d88089": {
          "model_module": "@jupyter-widgets/controls",
          "model_name": "FloatProgressModel",
          "model_module_version": "1.5.0",
          "state": {
            "_dom_classes": [],
            "_model_module": "@jupyter-widgets/controls",
            "_model_module_version": "1.5.0",
            "_model_name": "FloatProgressModel",
            "_view_count": null,
            "_view_module": "@jupyter-widgets/controls",
            "_view_module_version": "1.5.0",
            "_view_name": "ProgressView",
            "bar_style": "success",
            "description": "",
            "description_tooltip": null,
            "layout": "IPY_MODEL_0089e3357f074faf812f22f2a8d98e8e",
            "max": 9912422,
            "min": 0,
            "orientation": "horizontal",
            "style": "IPY_MODEL_122c75b3931e4f6e9b80ba4ab9fd5a1c",
            "value": 9912422
          }
        },
        "4a3ae8ffdcc74be6a3a038f59bc2239b": {
          "model_module": "@jupyter-widgets/controls",
          "model_name": "HTMLModel",
          "model_module_version": "1.5.0",
          "state": {
            "_dom_classes": [],
            "_model_module": "@jupyter-widgets/controls",
            "_model_module_version": "1.5.0",
            "_model_name": "HTMLModel",
            "_view_count": null,
            "_view_module": "@jupyter-widgets/controls",
            "_view_module_version": "1.5.0",
            "_view_name": "HTMLView",
            "description": "",
            "description_tooltip": null,
            "layout": "IPY_MODEL_2b24002252974742b1475140287d6df6",
            "placeholder": "​",
            "style": "IPY_MODEL_294a78a4546347d498eeb01b0660cbd5",
            "value": " 9912422/9912422 [00:00&lt;00:00, 29627521.48it/s]"
          }
        },
        "ca0ad60924a54de3a0ed6c9a9270e23c": {
          "model_module": "@jupyter-widgets/base",
          "model_name": "LayoutModel",
          "model_module_version": "1.2.0",
          "state": {
            "_model_module": "@jupyter-widgets/base",
            "_model_module_version": "1.2.0",
            "_model_name": "LayoutModel",
            "_view_count": null,
            "_view_module": "@jupyter-widgets/base",
            "_view_module_version": "1.2.0",
            "_view_name": "LayoutView",
            "align_content": null,
            "align_items": null,
            "align_self": null,
            "border": null,
            "bottom": null,
            "display": null,
            "flex": null,
            "flex_flow": null,
            "grid_area": null,
            "grid_auto_columns": null,
            "grid_auto_flow": null,
            "grid_auto_rows": null,
            "grid_column": null,
            "grid_gap": null,
            "grid_row": null,
            "grid_template_areas": null,
            "grid_template_columns": null,
            "grid_template_rows": null,
            "height": null,
            "justify_content": null,
            "justify_items": null,
            "left": null,
            "margin": null,
            "max_height": null,
            "max_width": null,
            "min_height": null,
            "min_width": null,
            "object_fit": null,
            "object_position": null,
            "order": null,
            "overflow": null,
            "overflow_x": null,
            "overflow_y": null,
            "padding": null,
            "right": null,
            "top": null,
            "visibility": null,
            "width": null
          }
        },
        "ebd3a86b6c054291ad388192f91b5441": {
          "model_module": "@jupyter-widgets/base",
          "model_name": "LayoutModel",
          "model_module_version": "1.2.0",
          "state": {
            "_model_module": "@jupyter-widgets/base",
            "_model_module_version": "1.2.0",
            "_model_name": "LayoutModel",
            "_view_count": null,
            "_view_module": "@jupyter-widgets/base",
            "_view_module_version": "1.2.0",
            "_view_name": "LayoutView",
            "align_content": null,
            "align_items": null,
            "align_self": null,
            "border": null,
            "bottom": null,
            "display": null,
            "flex": null,
            "flex_flow": null,
            "grid_area": null,
            "grid_auto_columns": null,
            "grid_auto_flow": null,
            "grid_auto_rows": null,
            "grid_column": null,
            "grid_gap": null,
            "grid_row": null,
            "grid_template_areas": null,
            "grid_template_columns": null,
            "grid_template_rows": null,
            "height": null,
            "justify_content": null,
            "justify_items": null,
            "left": null,
            "margin": null,
            "max_height": null,
            "max_width": null,
            "min_height": null,
            "min_width": null,
            "object_fit": null,
            "object_position": null,
            "order": null,
            "overflow": null,
            "overflow_x": null,
            "overflow_y": null,
            "padding": null,
            "right": null,
            "top": null,
            "visibility": null,
            "width": null
          }
        },
        "0446aeb4e095422980a7d31e1adddf1a": {
          "model_module": "@jupyter-widgets/controls",
          "model_name": "DescriptionStyleModel",
          "model_module_version": "1.5.0",
          "state": {
            "_model_module": "@jupyter-widgets/controls",
            "_model_module_version": "1.5.0",
            "_model_name": "DescriptionStyleModel",
            "_view_count": null,
            "_view_module": "@jupyter-widgets/base",
            "_view_module_version": "1.2.0",
            "_view_name": "StyleView",
            "description_width": ""
          }
        },
        "0089e3357f074faf812f22f2a8d98e8e": {
          "model_module": "@jupyter-widgets/base",
          "model_name": "LayoutModel",
          "model_module_version": "1.2.0",
          "state": {
            "_model_module": "@jupyter-widgets/base",
            "_model_module_version": "1.2.0",
            "_model_name": "LayoutModel",
            "_view_count": null,
            "_view_module": "@jupyter-widgets/base",
            "_view_module_version": "1.2.0",
            "_view_name": "LayoutView",
            "align_content": null,
            "align_items": null,
            "align_self": null,
            "border": null,
            "bottom": null,
            "display": null,
            "flex": null,
            "flex_flow": null,
            "grid_area": null,
            "grid_auto_columns": null,
            "grid_auto_flow": null,
            "grid_auto_rows": null,
            "grid_column": null,
            "grid_gap": null,
            "grid_row": null,
            "grid_template_areas": null,
            "grid_template_columns": null,
            "grid_template_rows": null,
            "height": null,
            "justify_content": null,
            "justify_items": null,
            "left": null,
            "margin": null,
            "max_height": null,
            "max_width": null,
            "min_height": null,
            "min_width": null,
            "object_fit": null,
            "object_position": null,
            "order": null,
            "overflow": null,
            "overflow_x": null,
            "overflow_y": null,
            "padding": null,
            "right": null,
            "top": null,
            "visibility": null,
            "width": null
          }
        },
        "122c75b3931e4f6e9b80ba4ab9fd5a1c": {
          "model_module": "@jupyter-widgets/controls",
          "model_name": "ProgressStyleModel",
          "model_module_version": "1.5.0",
          "state": {
            "_model_module": "@jupyter-widgets/controls",
            "_model_module_version": "1.5.0",
            "_model_name": "ProgressStyleModel",
            "_view_count": null,
            "_view_module": "@jupyter-widgets/base",
            "_view_module_version": "1.2.0",
            "_view_name": "StyleView",
            "bar_color": null,
            "description_width": ""
          }
        },
        "2b24002252974742b1475140287d6df6": {
          "model_module": "@jupyter-widgets/base",
          "model_name": "LayoutModel",
          "model_module_version": "1.2.0",
          "state": {
            "_model_module": "@jupyter-widgets/base",
            "_model_module_version": "1.2.0",
            "_model_name": "LayoutModel",
            "_view_count": null,
            "_view_module": "@jupyter-widgets/base",
            "_view_module_version": "1.2.0",
            "_view_name": "LayoutView",
            "align_content": null,
            "align_items": null,
            "align_self": null,
            "border": null,
            "bottom": null,
            "display": null,
            "flex": null,
            "flex_flow": null,
            "grid_area": null,
            "grid_auto_columns": null,
            "grid_auto_flow": null,
            "grid_auto_rows": null,
            "grid_column": null,
            "grid_gap": null,
            "grid_row": null,
            "grid_template_areas": null,
            "grid_template_columns": null,
            "grid_template_rows": null,
            "height": null,
            "justify_content": null,
            "justify_items": null,
            "left": null,
            "margin": null,
            "max_height": null,
            "max_width": null,
            "min_height": null,
            "min_width": null,
            "object_fit": null,
            "object_position": null,
            "order": null,
            "overflow": null,
            "overflow_x": null,
            "overflow_y": null,
            "padding": null,
            "right": null,
            "top": null,
            "visibility": null,
            "width": null
          }
        },
        "294a78a4546347d498eeb01b0660cbd5": {
          "model_module": "@jupyter-widgets/controls",
          "model_name": "DescriptionStyleModel",
          "model_module_version": "1.5.0",
          "state": {
            "_model_module": "@jupyter-widgets/controls",
            "_model_module_version": "1.5.0",
            "_model_name": "DescriptionStyleModel",
            "_view_count": null,
            "_view_module": "@jupyter-widgets/base",
            "_view_module_version": "1.2.0",
            "_view_name": "StyleView",
            "description_width": ""
          }
        },
        "342f3302b985442da293d938d2ef43fc": {
          "model_module": "@jupyter-widgets/controls",
          "model_name": "HBoxModel",
          "model_module_version": "1.5.0",
          "state": {
            "_dom_classes": [],
            "_model_module": "@jupyter-widgets/controls",
            "_model_module_version": "1.5.0",
            "_model_name": "HBoxModel",
            "_view_count": null,
            "_view_module": "@jupyter-widgets/controls",
            "_view_module_version": "1.5.0",
            "_view_name": "HBoxView",
            "box_style": "",
            "children": [
              "IPY_MODEL_1d5366cdc8084c8ebe8c1cda85032f9e",
              "IPY_MODEL_eda38abd1ab64ce08ebae398cbf75d45",
              "IPY_MODEL_b7c3a6fe7ac84103a392626f4a0df635"
            ],
            "layout": "IPY_MODEL_cd7c798645494eeebc8c86f7cb5b96c3"
          }
        },
        "1d5366cdc8084c8ebe8c1cda85032f9e": {
          "model_module": "@jupyter-widgets/controls",
          "model_name": "HTMLModel",
          "model_module_version": "1.5.0",
          "state": {
            "_dom_classes": [],
            "_model_module": "@jupyter-widgets/controls",
            "_model_module_version": "1.5.0",
            "_model_name": "HTMLModel",
            "_view_count": null,
            "_view_module": "@jupyter-widgets/controls",
            "_view_module_version": "1.5.0",
            "_view_name": "HTMLView",
            "description": "",
            "description_tooltip": null,
            "layout": "IPY_MODEL_dde898289dab4b0c928a3a30635bf779",
            "placeholder": "​",
            "style": "IPY_MODEL_64e4f8f38797472ba3480932b00ea895",
            "value": "100%"
          }
        },
        "eda38abd1ab64ce08ebae398cbf75d45": {
          "model_module": "@jupyter-widgets/controls",
          "model_name": "FloatProgressModel",
          "model_module_version": "1.5.0",
          "state": {
            "_dom_classes": [],
            "_model_module": "@jupyter-widgets/controls",
            "_model_module_version": "1.5.0",
            "_model_name": "FloatProgressModel",
            "_view_count": null,
            "_view_module": "@jupyter-widgets/controls",
            "_view_module_version": "1.5.0",
            "_view_name": "ProgressView",
            "bar_style": "success",
            "description": "",
            "description_tooltip": null,
            "layout": "IPY_MODEL_829feb36b04549f7a53194de321b5c80",
            "max": 28881,
            "min": 0,
            "orientation": "horizontal",
            "style": "IPY_MODEL_f60aeb187c62419b95c2922128f42180",
            "value": 28881
          }
        },
        "b7c3a6fe7ac84103a392626f4a0df635": {
          "model_module": "@jupyter-widgets/controls",
          "model_name": "HTMLModel",
          "model_module_version": "1.5.0",
          "state": {
            "_dom_classes": [],
            "_model_module": "@jupyter-widgets/controls",
            "_model_module_version": "1.5.0",
            "_model_name": "HTMLModel",
            "_view_count": null,
            "_view_module": "@jupyter-widgets/controls",
            "_view_module_version": "1.5.0",
            "_view_name": "HTMLView",
            "description": "",
            "description_tooltip": null,
            "layout": "IPY_MODEL_d4ff0b20717e442c9b7b0a35123ed676",
            "placeholder": "​",
            "style": "IPY_MODEL_71c557bbcabe4a1289095ca307b8d62d",
            "value": " 28881/28881 [00:00&lt;00:00, 510817.17it/s]"
          }
        },
        "cd7c798645494eeebc8c86f7cb5b96c3": {
          "model_module": "@jupyter-widgets/base",
          "model_name": "LayoutModel",
          "model_module_version": "1.2.0",
          "state": {
            "_model_module": "@jupyter-widgets/base",
            "_model_module_version": "1.2.0",
            "_model_name": "LayoutModel",
            "_view_count": null,
            "_view_module": "@jupyter-widgets/base",
            "_view_module_version": "1.2.0",
            "_view_name": "LayoutView",
            "align_content": null,
            "align_items": null,
            "align_self": null,
            "border": null,
            "bottom": null,
            "display": null,
            "flex": null,
            "flex_flow": null,
            "grid_area": null,
            "grid_auto_columns": null,
            "grid_auto_flow": null,
            "grid_auto_rows": null,
            "grid_column": null,
            "grid_gap": null,
            "grid_row": null,
            "grid_template_areas": null,
            "grid_template_columns": null,
            "grid_template_rows": null,
            "height": null,
            "justify_content": null,
            "justify_items": null,
            "left": null,
            "margin": null,
            "max_height": null,
            "max_width": null,
            "min_height": null,
            "min_width": null,
            "object_fit": null,
            "object_position": null,
            "order": null,
            "overflow": null,
            "overflow_x": null,
            "overflow_y": null,
            "padding": null,
            "right": null,
            "top": null,
            "visibility": null,
            "width": null
          }
        },
        "dde898289dab4b0c928a3a30635bf779": {
          "model_module": "@jupyter-widgets/base",
          "model_name": "LayoutModel",
          "model_module_version": "1.2.0",
          "state": {
            "_model_module": "@jupyter-widgets/base",
            "_model_module_version": "1.2.0",
            "_model_name": "LayoutModel",
            "_view_count": null,
            "_view_module": "@jupyter-widgets/base",
            "_view_module_version": "1.2.0",
            "_view_name": "LayoutView",
            "align_content": null,
            "align_items": null,
            "align_self": null,
            "border": null,
            "bottom": null,
            "display": null,
            "flex": null,
            "flex_flow": null,
            "grid_area": null,
            "grid_auto_columns": null,
            "grid_auto_flow": null,
            "grid_auto_rows": null,
            "grid_column": null,
            "grid_gap": null,
            "grid_row": null,
            "grid_template_areas": null,
            "grid_template_columns": null,
            "grid_template_rows": null,
            "height": null,
            "justify_content": null,
            "justify_items": null,
            "left": null,
            "margin": null,
            "max_height": null,
            "max_width": null,
            "min_height": null,
            "min_width": null,
            "object_fit": null,
            "object_position": null,
            "order": null,
            "overflow": null,
            "overflow_x": null,
            "overflow_y": null,
            "padding": null,
            "right": null,
            "top": null,
            "visibility": null,
            "width": null
          }
        },
        "64e4f8f38797472ba3480932b00ea895": {
          "model_module": "@jupyter-widgets/controls",
          "model_name": "DescriptionStyleModel",
          "model_module_version": "1.5.0",
          "state": {
            "_model_module": "@jupyter-widgets/controls",
            "_model_module_version": "1.5.0",
            "_model_name": "DescriptionStyleModel",
            "_view_count": null,
            "_view_module": "@jupyter-widgets/base",
            "_view_module_version": "1.2.0",
            "_view_name": "StyleView",
            "description_width": ""
          }
        },
        "829feb36b04549f7a53194de321b5c80": {
          "model_module": "@jupyter-widgets/base",
          "model_name": "LayoutModel",
          "model_module_version": "1.2.0",
          "state": {
            "_model_module": "@jupyter-widgets/base",
            "_model_module_version": "1.2.0",
            "_model_name": "LayoutModel",
            "_view_count": null,
            "_view_module": "@jupyter-widgets/base",
            "_view_module_version": "1.2.0",
            "_view_name": "LayoutView",
            "align_content": null,
            "align_items": null,
            "align_self": null,
            "border": null,
            "bottom": null,
            "display": null,
            "flex": null,
            "flex_flow": null,
            "grid_area": null,
            "grid_auto_columns": null,
            "grid_auto_flow": null,
            "grid_auto_rows": null,
            "grid_column": null,
            "grid_gap": null,
            "grid_row": null,
            "grid_template_areas": null,
            "grid_template_columns": null,
            "grid_template_rows": null,
            "height": null,
            "justify_content": null,
            "justify_items": null,
            "left": null,
            "margin": null,
            "max_height": null,
            "max_width": null,
            "min_height": null,
            "min_width": null,
            "object_fit": null,
            "object_position": null,
            "order": null,
            "overflow": null,
            "overflow_x": null,
            "overflow_y": null,
            "padding": null,
            "right": null,
            "top": null,
            "visibility": null,
            "width": null
          }
        },
        "f60aeb187c62419b95c2922128f42180": {
          "model_module": "@jupyter-widgets/controls",
          "model_name": "ProgressStyleModel",
          "model_module_version": "1.5.0",
          "state": {
            "_model_module": "@jupyter-widgets/controls",
            "_model_module_version": "1.5.0",
            "_model_name": "ProgressStyleModel",
            "_view_count": null,
            "_view_module": "@jupyter-widgets/base",
            "_view_module_version": "1.2.0",
            "_view_name": "StyleView",
            "bar_color": null,
            "description_width": ""
          }
        },
        "d4ff0b20717e442c9b7b0a35123ed676": {
          "model_module": "@jupyter-widgets/base",
          "model_name": "LayoutModel",
          "model_module_version": "1.2.0",
          "state": {
            "_model_module": "@jupyter-widgets/base",
            "_model_module_version": "1.2.0",
            "_model_name": "LayoutModel",
            "_view_count": null,
            "_view_module": "@jupyter-widgets/base",
            "_view_module_version": "1.2.0",
            "_view_name": "LayoutView",
            "align_content": null,
            "align_items": null,
            "align_self": null,
            "border": null,
            "bottom": null,
            "display": null,
            "flex": null,
            "flex_flow": null,
            "grid_area": null,
            "grid_auto_columns": null,
            "grid_auto_flow": null,
            "grid_auto_rows": null,
            "grid_column": null,
            "grid_gap": null,
            "grid_row": null,
            "grid_template_areas": null,
            "grid_template_columns": null,
            "grid_template_rows": null,
            "height": null,
            "justify_content": null,
            "justify_items": null,
            "left": null,
            "margin": null,
            "max_height": null,
            "max_width": null,
            "min_height": null,
            "min_width": null,
            "object_fit": null,
            "object_position": null,
            "order": null,
            "overflow": null,
            "overflow_x": null,
            "overflow_y": null,
            "padding": null,
            "right": null,
            "top": null,
            "visibility": null,
            "width": null
          }
        },
        "71c557bbcabe4a1289095ca307b8d62d": {
          "model_module": "@jupyter-widgets/controls",
          "model_name": "DescriptionStyleModel",
          "model_module_version": "1.5.0",
          "state": {
            "_model_module": "@jupyter-widgets/controls",
            "_model_module_version": "1.5.0",
            "_model_name": "DescriptionStyleModel",
            "_view_count": null,
            "_view_module": "@jupyter-widgets/base",
            "_view_module_version": "1.2.0",
            "_view_name": "StyleView",
            "description_width": ""
          }
        },
        "39a849fda0414b4ca984a70d4e63e7ce": {
          "model_module": "@jupyter-widgets/controls",
          "model_name": "HBoxModel",
          "model_module_version": "1.5.0",
          "state": {
            "_dom_classes": [],
            "_model_module": "@jupyter-widgets/controls",
            "_model_module_version": "1.5.0",
            "_model_name": "HBoxModel",
            "_view_count": null,
            "_view_module": "@jupyter-widgets/controls",
            "_view_module_version": "1.5.0",
            "_view_name": "HBoxView",
            "box_style": "",
            "children": [
              "IPY_MODEL_ce928ac32e3f483795a4f0b0d8282512",
              "IPY_MODEL_842eeb345360470f85c8068708cc0a50",
              "IPY_MODEL_47c6a4a9879d49159937c0ed5997676c"
            ],
            "layout": "IPY_MODEL_a1749a16796045f59274f21cd6862b1d"
          }
        },
        "ce928ac32e3f483795a4f0b0d8282512": {
          "model_module": "@jupyter-widgets/controls",
          "model_name": "HTMLModel",
          "model_module_version": "1.5.0",
          "state": {
            "_dom_classes": [],
            "_model_module": "@jupyter-widgets/controls",
            "_model_module_version": "1.5.0",
            "_model_name": "HTMLModel",
            "_view_count": null,
            "_view_module": "@jupyter-widgets/controls",
            "_view_module_version": "1.5.0",
            "_view_name": "HTMLView",
            "description": "",
            "description_tooltip": null,
            "layout": "IPY_MODEL_867173e874fb48b9ab83ca880a93a8da",
            "placeholder": "​",
            "style": "IPY_MODEL_b3d7069d50664d1c9bb9f4c5c98c1419",
            "value": "100%"
          }
        },
        "842eeb345360470f85c8068708cc0a50": {
          "model_module": "@jupyter-widgets/controls",
          "model_name": "FloatProgressModel",
          "model_module_version": "1.5.0",
          "state": {
            "_dom_classes": [],
            "_model_module": "@jupyter-widgets/controls",
            "_model_module_version": "1.5.0",
            "_model_name": "FloatProgressModel",
            "_view_count": null,
            "_view_module": "@jupyter-widgets/controls",
            "_view_module_version": "1.5.0",
            "_view_name": "ProgressView",
            "bar_style": "success",
            "description": "",
            "description_tooltip": null,
            "layout": "IPY_MODEL_4d084a7267d84805b8455d57b4f0874d",
            "max": 1648877,
            "min": 0,
            "orientation": "horizontal",
            "style": "IPY_MODEL_38b7f9ffd0424df6bb2cb7166141426a",
            "value": 1648877
          }
        },
        "47c6a4a9879d49159937c0ed5997676c": {
          "model_module": "@jupyter-widgets/controls",
          "model_name": "HTMLModel",
          "model_module_version": "1.5.0",
          "state": {
            "_dom_classes": [],
            "_model_module": "@jupyter-widgets/controls",
            "_model_module_version": "1.5.0",
            "_model_name": "HTMLModel",
            "_view_count": null,
            "_view_module": "@jupyter-widgets/controls",
            "_view_module_version": "1.5.0",
            "_view_name": "HTMLView",
            "description": "",
            "description_tooltip": null,
            "layout": "IPY_MODEL_671e4c7ea726432cb1db62a27006a85b",
            "placeholder": "​",
            "style": "IPY_MODEL_d59779f5cd5a481fbc30135cba432093",
            "value": " 1648877/1648877 [00:00&lt;00:00, 2887683.04it/s]"
          }
        },
        "a1749a16796045f59274f21cd6862b1d": {
          "model_module": "@jupyter-widgets/base",
          "model_name": "LayoutModel",
          "model_module_version": "1.2.0",
          "state": {
            "_model_module": "@jupyter-widgets/base",
            "_model_module_version": "1.2.0",
            "_model_name": "LayoutModel",
            "_view_count": null,
            "_view_module": "@jupyter-widgets/base",
            "_view_module_version": "1.2.0",
            "_view_name": "LayoutView",
            "align_content": null,
            "align_items": null,
            "align_self": null,
            "border": null,
            "bottom": null,
            "display": null,
            "flex": null,
            "flex_flow": null,
            "grid_area": null,
            "grid_auto_columns": null,
            "grid_auto_flow": null,
            "grid_auto_rows": null,
            "grid_column": null,
            "grid_gap": null,
            "grid_row": null,
            "grid_template_areas": null,
            "grid_template_columns": null,
            "grid_template_rows": null,
            "height": null,
            "justify_content": null,
            "justify_items": null,
            "left": null,
            "margin": null,
            "max_height": null,
            "max_width": null,
            "min_height": null,
            "min_width": null,
            "object_fit": null,
            "object_position": null,
            "order": null,
            "overflow": null,
            "overflow_x": null,
            "overflow_y": null,
            "padding": null,
            "right": null,
            "top": null,
            "visibility": null,
            "width": null
          }
        },
        "867173e874fb48b9ab83ca880a93a8da": {
          "model_module": "@jupyter-widgets/base",
          "model_name": "LayoutModel",
          "model_module_version": "1.2.0",
          "state": {
            "_model_module": "@jupyter-widgets/base",
            "_model_module_version": "1.2.0",
            "_model_name": "LayoutModel",
            "_view_count": null,
            "_view_module": "@jupyter-widgets/base",
            "_view_module_version": "1.2.0",
            "_view_name": "LayoutView",
            "align_content": null,
            "align_items": null,
            "align_self": null,
            "border": null,
            "bottom": null,
            "display": null,
            "flex": null,
            "flex_flow": null,
            "grid_area": null,
            "grid_auto_columns": null,
            "grid_auto_flow": null,
            "grid_auto_rows": null,
            "grid_column": null,
            "grid_gap": null,
            "grid_row": null,
            "grid_template_areas": null,
            "grid_template_columns": null,
            "grid_template_rows": null,
            "height": null,
            "justify_content": null,
            "justify_items": null,
            "left": null,
            "margin": null,
            "max_height": null,
            "max_width": null,
            "min_height": null,
            "min_width": null,
            "object_fit": null,
            "object_position": null,
            "order": null,
            "overflow": null,
            "overflow_x": null,
            "overflow_y": null,
            "padding": null,
            "right": null,
            "top": null,
            "visibility": null,
            "width": null
          }
        },
        "b3d7069d50664d1c9bb9f4c5c98c1419": {
          "model_module": "@jupyter-widgets/controls",
          "model_name": "DescriptionStyleModel",
          "model_module_version": "1.5.0",
          "state": {
            "_model_module": "@jupyter-widgets/controls",
            "_model_module_version": "1.5.0",
            "_model_name": "DescriptionStyleModel",
            "_view_count": null,
            "_view_module": "@jupyter-widgets/base",
            "_view_module_version": "1.2.0",
            "_view_name": "StyleView",
            "description_width": ""
          }
        },
        "4d084a7267d84805b8455d57b4f0874d": {
          "model_module": "@jupyter-widgets/base",
          "model_name": "LayoutModel",
          "model_module_version": "1.2.0",
          "state": {
            "_model_module": "@jupyter-widgets/base",
            "_model_module_version": "1.2.0",
            "_model_name": "LayoutModel",
            "_view_count": null,
            "_view_module": "@jupyter-widgets/base",
            "_view_module_version": "1.2.0",
            "_view_name": "LayoutView",
            "align_content": null,
            "align_items": null,
            "align_self": null,
            "border": null,
            "bottom": null,
            "display": null,
            "flex": null,
            "flex_flow": null,
            "grid_area": null,
            "grid_auto_columns": null,
            "grid_auto_flow": null,
            "grid_auto_rows": null,
            "grid_column": null,
            "grid_gap": null,
            "grid_row": null,
            "grid_template_areas": null,
            "grid_template_columns": null,
            "grid_template_rows": null,
            "height": null,
            "justify_content": null,
            "justify_items": null,
            "left": null,
            "margin": null,
            "max_height": null,
            "max_width": null,
            "min_height": null,
            "min_width": null,
            "object_fit": null,
            "object_position": null,
            "order": null,
            "overflow": null,
            "overflow_x": null,
            "overflow_y": null,
            "padding": null,
            "right": null,
            "top": null,
            "visibility": null,
            "width": null
          }
        },
        "38b7f9ffd0424df6bb2cb7166141426a": {
          "model_module": "@jupyter-widgets/controls",
          "model_name": "ProgressStyleModel",
          "model_module_version": "1.5.0",
          "state": {
            "_model_module": "@jupyter-widgets/controls",
            "_model_module_version": "1.5.0",
            "_model_name": "ProgressStyleModel",
            "_view_count": null,
            "_view_module": "@jupyter-widgets/base",
            "_view_module_version": "1.2.0",
            "_view_name": "StyleView",
            "bar_color": null,
            "description_width": ""
          }
        },
        "671e4c7ea726432cb1db62a27006a85b": {
          "model_module": "@jupyter-widgets/base",
          "model_name": "LayoutModel",
          "model_module_version": "1.2.0",
          "state": {
            "_model_module": "@jupyter-widgets/base",
            "_model_module_version": "1.2.0",
            "_model_name": "LayoutModel",
            "_view_count": null,
            "_view_module": "@jupyter-widgets/base",
            "_view_module_version": "1.2.0",
            "_view_name": "LayoutView",
            "align_content": null,
            "align_items": null,
            "align_self": null,
            "border": null,
            "bottom": null,
            "display": null,
            "flex": null,
            "flex_flow": null,
            "grid_area": null,
            "grid_auto_columns": null,
            "grid_auto_flow": null,
            "grid_auto_rows": null,
            "grid_column": null,
            "grid_gap": null,
            "grid_row": null,
            "grid_template_areas": null,
            "grid_template_columns": null,
            "grid_template_rows": null,
            "height": null,
            "justify_content": null,
            "justify_items": null,
            "left": null,
            "margin": null,
            "max_height": null,
            "max_width": null,
            "min_height": null,
            "min_width": null,
            "object_fit": null,
            "object_position": null,
            "order": null,
            "overflow": null,
            "overflow_x": null,
            "overflow_y": null,
            "padding": null,
            "right": null,
            "top": null,
            "visibility": null,
            "width": null
          }
        },
        "d59779f5cd5a481fbc30135cba432093": {
          "model_module": "@jupyter-widgets/controls",
          "model_name": "DescriptionStyleModel",
          "model_module_version": "1.5.0",
          "state": {
            "_model_module": "@jupyter-widgets/controls",
            "_model_module_version": "1.5.0",
            "_model_name": "DescriptionStyleModel",
            "_view_count": null,
            "_view_module": "@jupyter-widgets/base",
            "_view_module_version": "1.2.0",
            "_view_name": "StyleView",
            "description_width": ""
          }
        },
        "55a7e7ffc26e41f08c348ea81c80aaaa": {
          "model_module": "@jupyter-widgets/controls",
          "model_name": "HBoxModel",
          "model_module_version": "1.5.0",
          "state": {
            "_dom_classes": [],
            "_model_module": "@jupyter-widgets/controls",
            "_model_module_version": "1.5.0",
            "_model_name": "HBoxModel",
            "_view_count": null,
            "_view_module": "@jupyter-widgets/controls",
            "_view_module_version": "1.5.0",
            "_view_name": "HBoxView",
            "box_style": "",
            "children": [
              "IPY_MODEL_9bc7047769d24bdcaf6d4cbf292816d3",
              "IPY_MODEL_04217fb510f34bdab6932a7e6eef32c3",
              "IPY_MODEL_0e3a3db3859340ed89c7bbf94e5a0c2f"
            ],
            "layout": "IPY_MODEL_3182fafac9b24e979c7bed2806be21c8"
          }
        },
        "9bc7047769d24bdcaf6d4cbf292816d3": {
          "model_module": "@jupyter-widgets/controls",
          "model_name": "HTMLModel",
          "model_module_version": "1.5.0",
          "state": {
            "_dom_classes": [],
            "_model_module": "@jupyter-widgets/controls",
            "_model_module_version": "1.5.0",
            "_model_name": "HTMLModel",
            "_view_count": null,
            "_view_module": "@jupyter-widgets/controls",
            "_view_module_version": "1.5.0",
            "_view_name": "HTMLView",
            "description": "",
            "description_tooltip": null,
            "layout": "IPY_MODEL_e688b6b77bfb4b64b9d7529cb0bd7fba",
            "placeholder": "​",
            "style": "IPY_MODEL_9861d1ebc5b04ad48ad88f5b245ea6f3",
            "value": "100%"
          }
        },
        "04217fb510f34bdab6932a7e6eef32c3": {
          "model_module": "@jupyter-widgets/controls",
          "model_name": "FloatProgressModel",
          "model_module_version": "1.5.0",
          "state": {
            "_dom_classes": [],
            "_model_module": "@jupyter-widgets/controls",
            "_model_module_version": "1.5.0",
            "_model_name": "FloatProgressModel",
            "_view_count": null,
            "_view_module": "@jupyter-widgets/controls",
            "_view_module_version": "1.5.0",
            "_view_name": "ProgressView",
            "bar_style": "success",
            "description": "",
            "description_tooltip": null,
            "layout": "IPY_MODEL_8efb3ac7206940ec84e872ff9506f9fb",
            "max": 4542,
            "min": 0,
            "orientation": "horizontal",
            "style": "IPY_MODEL_2fd9701e6dcb4a4e9754667575b62f4d",
            "value": 4542
          }
        },
        "0e3a3db3859340ed89c7bbf94e5a0c2f": {
          "model_module": "@jupyter-widgets/controls",
          "model_name": "HTMLModel",
          "model_module_version": "1.5.0",
          "state": {
            "_dom_classes": [],
            "_model_module": "@jupyter-widgets/controls",
            "_model_module_version": "1.5.0",
            "_model_name": "HTMLModel",
            "_view_count": null,
            "_view_module": "@jupyter-widgets/controls",
            "_view_module_version": "1.5.0",
            "_view_name": "HTMLView",
            "description": "",
            "description_tooltip": null,
            "layout": "IPY_MODEL_19c01a03a71f4fad8e931ef724ed439c",
            "placeholder": "​",
            "style": "IPY_MODEL_fdc48387e6dc43e9adf20e1365285f76",
            "value": " 4542/4542 [00:00&lt;00:00, 60120.01it/s]"
          }
        },
        "3182fafac9b24e979c7bed2806be21c8": {
          "model_module": "@jupyter-widgets/base",
          "model_name": "LayoutModel",
          "model_module_version": "1.2.0",
          "state": {
            "_model_module": "@jupyter-widgets/base",
            "_model_module_version": "1.2.0",
            "_model_name": "LayoutModel",
            "_view_count": null,
            "_view_module": "@jupyter-widgets/base",
            "_view_module_version": "1.2.0",
            "_view_name": "LayoutView",
            "align_content": null,
            "align_items": null,
            "align_self": null,
            "border": null,
            "bottom": null,
            "display": null,
            "flex": null,
            "flex_flow": null,
            "grid_area": null,
            "grid_auto_columns": null,
            "grid_auto_flow": null,
            "grid_auto_rows": null,
            "grid_column": null,
            "grid_gap": null,
            "grid_row": null,
            "grid_template_areas": null,
            "grid_template_columns": null,
            "grid_template_rows": null,
            "height": null,
            "justify_content": null,
            "justify_items": null,
            "left": null,
            "margin": null,
            "max_height": null,
            "max_width": null,
            "min_height": null,
            "min_width": null,
            "object_fit": null,
            "object_position": null,
            "order": null,
            "overflow": null,
            "overflow_x": null,
            "overflow_y": null,
            "padding": null,
            "right": null,
            "top": null,
            "visibility": null,
            "width": null
          }
        },
        "e688b6b77bfb4b64b9d7529cb0bd7fba": {
          "model_module": "@jupyter-widgets/base",
          "model_name": "LayoutModel",
          "model_module_version": "1.2.0",
          "state": {
            "_model_module": "@jupyter-widgets/base",
            "_model_module_version": "1.2.0",
            "_model_name": "LayoutModel",
            "_view_count": null,
            "_view_module": "@jupyter-widgets/base",
            "_view_module_version": "1.2.0",
            "_view_name": "LayoutView",
            "align_content": null,
            "align_items": null,
            "align_self": null,
            "border": null,
            "bottom": null,
            "display": null,
            "flex": null,
            "flex_flow": null,
            "grid_area": null,
            "grid_auto_columns": null,
            "grid_auto_flow": null,
            "grid_auto_rows": null,
            "grid_column": null,
            "grid_gap": null,
            "grid_row": null,
            "grid_template_areas": null,
            "grid_template_columns": null,
            "grid_template_rows": null,
            "height": null,
            "justify_content": null,
            "justify_items": null,
            "left": null,
            "margin": null,
            "max_height": null,
            "max_width": null,
            "min_height": null,
            "min_width": null,
            "object_fit": null,
            "object_position": null,
            "order": null,
            "overflow": null,
            "overflow_x": null,
            "overflow_y": null,
            "padding": null,
            "right": null,
            "top": null,
            "visibility": null,
            "width": null
          }
        },
        "9861d1ebc5b04ad48ad88f5b245ea6f3": {
          "model_module": "@jupyter-widgets/controls",
          "model_name": "DescriptionStyleModel",
          "model_module_version": "1.5.0",
          "state": {
            "_model_module": "@jupyter-widgets/controls",
            "_model_module_version": "1.5.0",
            "_model_name": "DescriptionStyleModel",
            "_view_count": null,
            "_view_module": "@jupyter-widgets/base",
            "_view_module_version": "1.2.0",
            "_view_name": "StyleView",
            "description_width": ""
          }
        },
        "8efb3ac7206940ec84e872ff9506f9fb": {
          "model_module": "@jupyter-widgets/base",
          "model_name": "LayoutModel",
          "model_module_version": "1.2.0",
          "state": {
            "_model_module": "@jupyter-widgets/base",
            "_model_module_version": "1.2.0",
            "_model_name": "LayoutModel",
            "_view_count": null,
            "_view_module": "@jupyter-widgets/base",
            "_view_module_version": "1.2.0",
            "_view_name": "LayoutView",
            "align_content": null,
            "align_items": null,
            "align_self": null,
            "border": null,
            "bottom": null,
            "display": null,
            "flex": null,
            "flex_flow": null,
            "grid_area": null,
            "grid_auto_columns": null,
            "grid_auto_flow": null,
            "grid_auto_rows": null,
            "grid_column": null,
            "grid_gap": null,
            "grid_row": null,
            "grid_template_areas": null,
            "grid_template_columns": null,
            "grid_template_rows": null,
            "height": null,
            "justify_content": null,
            "justify_items": null,
            "left": null,
            "margin": null,
            "max_height": null,
            "max_width": null,
            "min_height": null,
            "min_width": null,
            "object_fit": null,
            "object_position": null,
            "order": null,
            "overflow": null,
            "overflow_x": null,
            "overflow_y": null,
            "padding": null,
            "right": null,
            "top": null,
            "visibility": null,
            "width": null
          }
        },
        "2fd9701e6dcb4a4e9754667575b62f4d": {
          "model_module": "@jupyter-widgets/controls",
          "model_name": "ProgressStyleModel",
          "model_module_version": "1.5.0",
          "state": {
            "_model_module": "@jupyter-widgets/controls",
            "_model_module_version": "1.5.0",
            "_model_name": "ProgressStyleModel",
            "_view_count": null,
            "_view_module": "@jupyter-widgets/base",
            "_view_module_version": "1.2.0",
            "_view_name": "StyleView",
            "bar_color": null,
            "description_width": ""
          }
        },
        "19c01a03a71f4fad8e931ef724ed439c": {
          "model_module": "@jupyter-widgets/base",
          "model_name": "LayoutModel",
          "model_module_version": "1.2.0",
          "state": {
            "_model_module": "@jupyter-widgets/base",
            "_model_module_version": "1.2.0",
            "_model_name": "LayoutModel",
            "_view_count": null,
            "_view_module": "@jupyter-widgets/base",
            "_view_module_version": "1.2.0",
            "_view_name": "LayoutView",
            "align_content": null,
            "align_items": null,
            "align_self": null,
            "border": null,
            "bottom": null,
            "display": null,
            "flex": null,
            "flex_flow": null,
            "grid_area": null,
            "grid_auto_columns": null,
            "grid_auto_flow": null,
            "grid_auto_rows": null,
            "grid_column": null,
            "grid_gap": null,
            "grid_row": null,
            "grid_template_areas": null,
            "grid_template_columns": null,
            "grid_template_rows": null,
            "height": null,
            "justify_content": null,
            "justify_items": null,
            "left": null,
            "margin": null,
            "max_height": null,
            "max_width": null,
            "min_height": null,
            "min_width": null,
            "object_fit": null,
            "object_position": null,
            "order": null,
            "overflow": null,
            "overflow_x": null,
            "overflow_y": null,
            "padding": null,
            "right": null,
            "top": null,
            "visibility": null,
            "width": null
          }
        },
        "fdc48387e6dc43e9adf20e1365285f76": {
          "model_module": "@jupyter-widgets/controls",
          "model_name": "DescriptionStyleModel",
          "model_module_version": "1.5.0",
          "state": {
            "_model_module": "@jupyter-widgets/controls",
            "_model_module_version": "1.5.0",
            "_model_name": "DescriptionStyleModel",
            "_view_count": null,
            "_view_module": "@jupyter-widgets/base",
            "_view_module_version": "1.2.0",
            "_view_name": "StyleView",
            "description_width": ""
          }
        }
      }
    }
  },
  "cells": [
    {
      "cell_type": "code",
      "execution_count": 22,
      "metadata": {
        "id": "Skjsow_cPglw"
      },
      "outputs": [],
      "source": [
        "import torch\n",
        "from torch import nn\n",
        "import torch.nn.functional as Fn\n",
        "from torch.utils.data import Dataset\n",
        "from torchvision import datasets\n",
        "from torchvision.transforms import ToTensor\n",
        "from torch.utils.data import DataLoader\n",
        "import torchvision.transforms as transforms\n",
        "from torch.utils.data.sampler import SubsetRandomSampler\n",
        "\n",
        "from sklearn.model_selection import train_test_split\n",
        "\n",
        "import numpy as np\n",
        "import matplotlib.pyplot as plt\n",
        "\n",
        "from dataclasses import dataclass\n",
        "from sklearn.metrics import confusion_matrix,ConfusionMatrixDisplay\n",
        "\n",
        "from tqdm import tqdm\n",
        "from collections import Counter\n",
        "\n",
        "from torchsummary import summary"
      ]
    },
    {
      "cell_type": "code",
      "source": [
        "np.random.seed(1292139)\n",
        "torch.manual_seed(2894347)"
      ],
      "metadata": {
        "colab": {
          "base_uri": "https://localhost:8080/"
        },
        "id": "rDO5GdlAESvi",
        "outputId": "0e0f0549-36dc-4127-a092-e4a018fda00e"
      },
      "execution_count": 2,
      "outputs": [
        {
          "output_type": "execute_result",
          "data": {
            "text/plain": [
              "<torch._C.Generator at 0x7fe97755afb0>"
            ]
          },
          "metadata": {},
          "execution_count": 2
        }
      ]
    },
    {
      "cell_type": "code",
      "execution_count": 3,
      "metadata": {
        "id": "hLdyR74Z1Wqt"
      },
      "outputs": [],
      "source": [
        "device = torch.device('cuda' if torch.cuda.is_available() else 'cpu')"
      ]
    },
    {
      "cell_type": "code",
      "source": [
        "training_data = datasets.MNIST(\n",
        "root=\"data\",\n",
        "train=True,\n",
        "download=True,\n",
        "transform=ToTensor()\n",
        ")\n",
        "test_data = datasets.MNIST(\n",
        "root=\"data\",\n",
        "train=False,\n",
        "download=True,\n",
        "transform=ToTensor()\n",
        ")"
      ],
      "metadata": {
        "id": "YYgRBGghyU_d",
        "colab": {
          "base_uri": "https://localhost:8080/",
          "height": 429,
          "referenced_widgets": [
            "80812f7c1dc44ffb880dd80e7e6450f7",
            "9e0b9d22bc7d48d1a05e8927319876c5",
            "b7080cc94a624925bbb447e755d88089",
            "4a3ae8ffdcc74be6a3a038f59bc2239b",
            "ca0ad60924a54de3a0ed6c9a9270e23c",
            "ebd3a86b6c054291ad388192f91b5441",
            "0446aeb4e095422980a7d31e1adddf1a",
            "0089e3357f074faf812f22f2a8d98e8e",
            "122c75b3931e4f6e9b80ba4ab9fd5a1c",
            "2b24002252974742b1475140287d6df6",
            "294a78a4546347d498eeb01b0660cbd5",
            "342f3302b985442da293d938d2ef43fc",
            "1d5366cdc8084c8ebe8c1cda85032f9e",
            "eda38abd1ab64ce08ebae398cbf75d45",
            "b7c3a6fe7ac84103a392626f4a0df635",
            "cd7c798645494eeebc8c86f7cb5b96c3",
            "dde898289dab4b0c928a3a30635bf779",
            "64e4f8f38797472ba3480932b00ea895",
            "829feb36b04549f7a53194de321b5c80",
            "f60aeb187c62419b95c2922128f42180",
            "d4ff0b20717e442c9b7b0a35123ed676",
            "71c557bbcabe4a1289095ca307b8d62d",
            "39a849fda0414b4ca984a70d4e63e7ce",
            "ce928ac32e3f483795a4f0b0d8282512",
            "842eeb345360470f85c8068708cc0a50",
            "47c6a4a9879d49159937c0ed5997676c",
            "a1749a16796045f59274f21cd6862b1d",
            "867173e874fb48b9ab83ca880a93a8da",
            "b3d7069d50664d1c9bb9f4c5c98c1419",
            "4d084a7267d84805b8455d57b4f0874d",
            "38b7f9ffd0424df6bb2cb7166141426a",
            "671e4c7ea726432cb1db62a27006a85b",
            "d59779f5cd5a481fbc30135cba432093",
            "55a7e7ffc26e41f08c348ea81c80aaaa",
            "9bc7047769d24bdcaf6d4cbf292816d3",
            "04217fb510f34bdab6932a7e6eef32c3",
            "0e3a3db3859340ed89c7bbf94e5a0c2f",
            "3182fafac9b24e979c7bed2806be21c8",
            "e688b6b77bfb4b64b9d7529cb0bd7fba",
            "9861d1ebc5b04ad48ad88f5b245ea6f3",
            "8efb3ac7206940ec84e872ff9506f9fb",
            "2fd9701e6dcb4a4e9754667575b62f4d",
            "19c01a03a71f4fad8e931ef724ed439c",
            "fdc48387e6dc43e9adf20e1365285f76"
          ]
        },
        "outputId": "65f81bf4-3b9a-4ac4-89d9-0b0ffb58b7d2"
      },
      "execution_count": 4,
      "outputs": [
        {
          "output_type": "stream",
          "name": "stdout",
          "text": [
            "Downloading http://yann.lecun.com/exdb/mnist/train-images-idx3-ubyte.gz\n",
            "Downloading http://yann.lecun.com/exdb/mnist/train-images-idx3-ubyte.gz to data/MNIST/raw/train-images-idx3-ubyte.gz\n"
          ]
        },
        {
          "output_type": "display_data",
          "data": {
            "text/plain": [
              "  0%|          | 0/9912422 [00:00<?, ?it/s]"
            ],
            "application/vnd.jupyter.widget-view+json": {
              "version_major": 2,
              "version_minor": 0,
              "model_id": "80812f7c1dc44ffb880dd80e7e6450f7"
            }
          },
          "metadata": {}
        },
        {
          "output_type": "stream",
          "name": "stdout",
          "text": [
            "Extracting data/MNIST/raw/train-images-idx3-ubyte.gz to data/MNIST/raw\n",
            "\n",
            "Downloading http://yann.lecun.com/exdb/mnist/train-labels-idx1-ubyte.gz\n",
            "Downloading http://yann.lecun.com/exdb/mnist/train-labels-idx1-ubyte.gz to data/MNIST/raw/train-labels-idx1-ubyte.gz\n"
          ]
        },
        {
          "output_type": "display_data",
          "data": {
            "text/plain": [
              "  0%|          | 0/28881 [00:00<?, ?it/s]"
            ],
            "application/vnd.jupyter.widget-view+json": {
              "version_major": 2,
              "version_minor": 0,
              "model_id": "342f3302b985442da293d938d2ef43fc"
            }
          },
          "metadata": {}
        },
        {
          "output_type": "stream",
          "name": "stdout",
          "text": [
            "Extracting data/MNIST/raw/train-labels-idx1-ubyte.gz to data/MNIST/raw\n",
            "\n",
            "Downloading http://yann.lecun.com/exdb/mnist/t10k-images-idx3-ubyte.gz\n",
            "Downloading http://yann.lecun.com/exdb/mnist/t10k-images-idx3-ubyte.gz to data/MNIST/raw/t10k-images-idx3-ubyte.gz\n"
          ]
        },
        {
          "output_type": "display_data",
          "data": {
            "text/plain": [
              "  0%|          | 0/1648877 [00:00<?, ?it/s]"
            ],
            "application/vnd.jupyter.widget-view+json": {
              "version_major": 2,
              "version_minor": 0,
              "model_id": "39a849fda0414b4ca984a70d4e63e7ce"
            }
          },
          "metadata": {}
        },
        {
          "output_type": "stream",
          "name": "stdout",
          "text": [
            "Extracting data/MNIST/raw/t10k-images-idx3-ubyte.gz to data/MNIST/raw\n",
            "\n",
            "Downloading http://yann.lecun.com/exdb/mnist/t10k-labels-idx1-ubyte.gz\n",
            "Downloading http://yann.lecun.com/exdb/mnist/t10k-labels-idx1-ubyte.gz to data/MNIST/raw/t10k-labels-idx1-ubyte.gz\n"
          ]
        },
        {
          "output_type": "display_data",
          "data": {
            "text/plain": [
              "  0%|          | 0/4542 [00:00<?, ?it/s]"
            ],
            "application/vnd.jupyter.widget-view+json": {
              "version_major": 2,
              "version_minor": 0,
              "model_id": "55a7e7ffc26e41f08c348ea81c80aaaa"
            }
          },
          "metadata": {}
        },
        {
          "output_type": "stream",
          "name": "stdout",
          "text": [
            "Extracting data/MNIST/raw/t10k-labels-idx1-ubyte.gz to data/MNIST/raw\n",
            "\n"
          ]
        }
      ]
    },
    {
      "cell_type": "code",
      "source": [],
      "metadata": {
        "id": "pD3TRBiA7m4f"
      },
      "execution_count": null,
      "outputs": []
    },
    {
      "cell_type": "code",
      "source": [
        "train_classes = [label for _, label in training_data]\n",
        "Counter(train_classes)"
      ],
      "metadata": {
        "colab": {
          "base_uri": "https://localhost:8080/"
        },
        "id": "JnTEeM885yBJ",
        "outputId": "13d67019-cb71-45d2-dd0c-5d58ca6f6729"
      },
      "execution_count": 5,
      "outputs": [
        {
          "output_type": "execute_result",
          "data": {
            "text/plain": [
              "Counter({5: 5421,\n",
              "         0: 5923,\n",
              "         4: 5842,\n",
              "         1: 6742,\n",
              "         9: 5949,\n",
              "         2: 5958,\n",
              "         3: 6131,\n",
              "         6: 5918,\n",
              "         7: 6265,\n",
              "         8: 5851})"
            ]
          },
          "metadata": {},
          "execution_count": 5
        }
      ]
    },
    {
      "cell_type": "code",
      "source": [
        "test_classes = [label for _, label in test_data]\n",
        "Counter(test_classes)"
      ],
      "metadata": {
        "colab": {
          "base_uri": "https://localhost:8080/"
        },
        "id": "rC1BKz3v9A2E",
        "outputId": "a9a1334f-16e3-45b5-be4e-50e8b7ca2b62"
      },
      "execution_count": 6,
      "outputs": [
        {
          "output_type": "execute_result",
          "data": {
            "text/plain": [
              "Counter({7: 1028,\n",
              "         2: 1032,\n",
              "         1: 1135,\n",
              "         0: 980,\n",
              "         4: 982,\n",
              "         9: 1009,\n",
              "         5: 892,\n",
              "         6: 958,\n",
              "         3: 1010,\n",
              "         8: 974})"
            ]
          },
          "metadata": {},
          "execution_count": 6
        }
      ]
    },
    {
      "cell_type": "markdown",
      "source": [
        "train_test_split ensures that the split is done uniformly"
      ],
      "metadata": {
        "id": "WAQfWlPFR-LT"
      }
    },
    {
      "cell_type": "code",
      "source": [
        "validation_split = .2 #20% validation split\n",
        "shuffle_dataset = True\n",
        "random_seed= 42\n",
        "\n",
        "\n",
        "train_idx, val_idx,_,_= train_test_split(range(len(training_data)),training_data.targets, test_size=0.2,train_size=0.8, shuffle=True, stratify=training_data.targets)\n",
        "   \n",
        "train_sampler = SubsetRandomSampler(train_idx)\n",
        "valid_sampler = SubsetRandomSampler(val_idx)"
      ],
      "metadata": {
        "id": "qUownLn7cAsh"
      },
      "execution_count": 7,
      "outputs": []
    },
    {
      "cell_type": "code",
      "source": [
        "test_loader = DataLoader(test_data, batch_size=64,num_workers = 2)"
      ],
      "metadata": {
        "id": "9cpVf-Tg-378"
      },
      "execution_count": 8,
      "outputs": []
    },
    {
      "cell_type": "code",
      "execution_count": 9,
      "metadata": {
        "id": "V6vpAAo-XO3D"
      },
      "outputs": [],
      "source": [
        "\n",
        "train_loader = DataLoader(training_data, batch_size=64, \n",
        "                                           sampler=train_sampler,num_workers = 2)\n",
        "val_loader = DataLoader(training_data, batch_size=64, sampler = valid_sampler, num_workers = 2)\n",
        "\n",
        "\n",
        "x = training_data.data\n",
        "y = training_data.targets.to(device)\n",
        "\n",
        "x_train = x[train_idx].to(torch.float).to(device)\n",
        "y_train = y[train_idx].to(device)\n",
        "\n",
        "x_val = x[val_idx].to(torch.float).to(device)\n",
        "y_val = y[val_idx].to(device)\n",
        "\n",
        "x_test = test_data.data.to(torch.float).to(device)\n",
        "y_test = test_data.targets.to(device)\n"
      ]
    },
    {
      "cell_type": "code",
      "execution_count": 10,
      "metadata": {
        "id": "r2liow01elqG"
      },
      "outputs": [],
      "source": [
        "\n",
        "lr = 1e-2\n",
        "batch_size = 64\n",
        "epochs = 15   \n"
      ]
    },
    {
      "cell_type": "code",
      "execution_count": 11,
      "metadata": {
        "id": "lj08X2X3ij52"
      },
      "outputs": [],
      "source": [
        "class CNN(nn.Module):\n",
        "  def __init__(self):\n",
        "    super(CNN, self).__init__()\n",
        "    self.conv1 = nn.Conv2d(1, 32, kernel_size=3,padding=1)\n",
        "    self.conv2 = nn.Conv2d(32, 32, kernel_size=3,padding=1)\n",
        "    self.fc1   = nn.Linear(49*32, 500)\n",
        "    self.fc2   = nn.Linear(500, 10)\n",
        "\n",
        "    self.activ = nn.ReLU()\n",
        "    self.softmax = nn.Softmax(dim=0)\n",
        "\n",
        "  def pool(self, x, kernel_size=2):\n",
        "    out = Fn.max_pool2d(x, kernel_size, stride=2)\n",
        "    return out\n",
        "\n",
        "  def forward(self, x):\n",
        "    out = self.activ(self.conv1(x))\n",
        "    out = self.pool(out)\n",
        "    out = self.activ(self.conv2(out))\n",
        "    out = self.pool(out)\n",
        "    out = out.reshape(out.size(0), -1)\n",
        "    out = self.activ(self.fc1(out))\n",
        "    out = self.fc2(out)\n",
        "    #out = self.softmax(out)\n",
        "    return out"
      ]
    },
    {
      "cell_type": "code",
      "execution_count": 40,
      "metadata": {
        "id": "kNjgMdfLex-T"
      },
      "outputs": [],
      "source": [
        "model = CNN().to(device)\n",
        "#model.apply(init_wb)\n",
        "loss_fn = nn.CrossEntropyLoss()\n",
        "optimiser = torch.optim.SGD(model.parameters(), lr=1e-2, momentum=0.9, weight_decay=5e-4)"
      ]
    },
    {
      "cell_type": "code",
      "source": [
        "\n",
        "def acc(loader,model,cft = False):\n",
        "  correct = 0\n",
        "  total = 0\n",
        "  pred = []\n",
        "  actual = []\n",
        "  with torch.no_grad():\n",
        "      for images,labels in loader:\n",
        "          images = images.to(device)\n",
        "          labels = labels.to(device)\n",
        "          outputs = model(images)\n",
        "          _, predicted = torch.max(outputs.data, 1)\n",
        "          total += labels.size(0)\n",
        "          correct += (predicted == labels).sum().item()\n",
        "          if cft:\n",
        "            for i in range(len(labels)):\n",
        "              pred.append(predicted[i].to(torch.device('cpu')))\n",
        "              actual.append(labels[i].to(torch.device('cpu')))\n",
        "  if cft:\n",
        "    return (100 * correct / total), confusion_matrix(actual,pred)\n",
        "  else:\n",
        "    return 100 * correct / total\n",
        "\n",
        "\n",
        "def compute_loss(loader,model,Loss):\n",
        "  loss = 0.0\n",
        "  with torch.no_grad():\n",
        "      for images,labels in loader:\n",
        "          images = images.to(torch.float).to(device)\n",
        "          labels = labels.to(device)\n",
        "          outputs = model(images)\n",
        "          loss += Loss(outputs,labels)\n",
        "  return loss"
      ],
      "metadata": {
        "id": "MVJeuShG9_Ay"
      },
      "execution_count": 13,
      "outputs": []
    },
    {
      "cell_type": "code",
      "execution_count": 14,
      "metadata": {
        "id": "A_EPrp3Sd-Az"
      },
      "outputs": [],
      "source": [
        "\n",
        "def train(model,dataloader,Loss,optimiser,history = True):\n",
        "    torch.cuda.empty_cache()\n",
        "    run=0\n",
        "    loss_list_train = []\n",
        "    loss_list_val = []\n",
        "    train_acc = []\n",
        "    valid_acc = []\n",
        "    run = 0 \n",
        "    for epoch in range(epochs):\n",
        "        for (batchidx, (features, targets)) in enumerate(dataloader):\n",
        "          \n",
        "            optimiser.zero_grad()\n",
        "            pred = model(features.to(torch.float).to(device))\n",
        "            epoch_loss = Loss(pred,targets.to(device))\n",
        "      \n",
        "            epoch_loss.backward()\n",
        "            optimiser.step()\n",
        "            run+=1\n",
        "            if run % 200 == 0:\n",
        "              print('Epoch {}/15: Epoch Loss: {:.2f}'.format(epoch+1, epoch_loss))\n",
        "            \n",
        "\n",
        "        with torch.no_grad():\n",
        "          print('Epoch {} DONE'.format(epoch+1)) \n",
        "          if history:\n",
        "            loss_list_train.append(compute_loss(dataloader,model,Loss))\n",
        "            loss_list_val.append(compute_loss(val_loader,model,Loss))\n",
        "            #train_acc.append(acc(dataloader,model))\n",
        "            valid_acc.append(acc(val_loader,model))\n",
        "            print(f'Train error :{loss_list_train[-1]}')\n",
        "            print(f'Validation error :{loss_list_val[-1]}')         \n",
        "            #print(f'Train accuracy :{train_acc[-1]}')\n",
        "            print(f'Validation accuracy :{valid_acc[-1]}')\n",
        "          print('\\n')\n",
        "    if history:\n",
        "      return loss_list_train,loss_list_val,train_acc,valid_acc"
      ]
    },
    {
      "cell_type": "code",
      "source": [
        "losses = train(model,train_loader,loss_fn,optimiser)"
      ],
      "metadata": {
        "colab": {
          "base_uri": "https://localhost:8080/"
        },
        "id": "fhDy2J2lf2yQ",
        "outputId": "fa7d9fcd-d7a4-42f8-d42a-ea3de1d9ae89"
      },
      "execution_count": 41,
      "outputs": [
        {
          "output_type": "stream",
          "name": "stdout",
          "text": [
            "Epoch 1/15: Epoch Loss: 0.19\n",
            "Epoch 1/15: Epoch Loss: 0.26\n",
            "Epoch 1/15: Epoch Loss: 0.15\n",
            "Epoch 1 DONE\n",
            "Train error :86.34843444824219\n",
            "Validation error :20.794330596923828\n",
            "Validation accuracy :96.73333333333333\n",
            "\n",
            "\n",
            "Epoch 2/15: Epoch Loss: 0.16\n",
            "Epoch 2/15: Epoch Loss: 0.07\n",
            "Epoch 2/15: Epoch Loss: 0.15\n",
            "Epoch 2/15: Epoch Loss: 0.11\n",
            "Epoch 2 DONE\n",
            "Train error :40.369163513183594\n",
            "Validation error :11.479650497436523\n",
            "Validation accuracy :98.2\n",
            "\n",
            "\n",
            "Epoch 3/15: Epoch Loss: 0.01\n",
            "Epoch 3/15: Epoch Loss: 0.01\n",
            "Epoch 3/15: Epoch Loss: 0.09\n",
            "Epoch 3/15: Epoch Loss: 0.04\n",
            "Epoch 3 DONE\n",
            "Train error :31.755409240722656\n",
            "Validation error :10.679150581359863\n",
            "Validation accuracy :98.28333333333333\n",
            "\n",
            "\n",
            "Epoch 4/15: Epoch Loss: 0.02\n",
            "Epoch 4/15: Epoch Loss: 0.09\n",
            "Epoch 4/15: Epoch Loss: 0.02\n",
            "Epoch 4/15: Epoch Loss: 0.08\n",
            "Epoch 4 DONE\n",
            "Train error :42.42111587524414\n",
            "Validation error :12.63456916809082\n",
            "Validation accuracy :97.98333333333333\n",
            "\n",
            "\n",
            "Epoch 5/15: Epoch Loss: 0.05\n",
            "Epoch 5/15: Epoch Loss: 0.01\n",
            "Epoch 5/15: Epoch Loss: 0.00\n",
            "Epoch 5 DONE\n",
            "Train error :25.117576599121094\n",
            "Validation error :9.311223983764648\n",
            "Validation accuracy :98.46666666666667\n",
            "\n",
            "\n",
            "Epoch 6/15: Epoch Loss: 0.00\n",
            "Epoch 6/15: Epoch Loss: 0.05\n",
            "Epoch 6/15: Epoch Loss: 0.01\n",
            "Epoch 6/15: Epoch Loss: 0.02\n",
            "Epoch 6 DONE\n",
            "Train error :24.47686195373535\n",
            "Validation error :10.120404243469238\n",
            "Validation accuracy :98.45833333333333\n",
            "\n",
            "\n",
            "Epoch 7/15: Epoch Loss: 0.01\n",
            "Epoch 7/15: Epoch Loss: 0.01\n",
            "Epoch 7/15: Epoch Loss: 0.01\n",
            "Epoch 7/15: Epoch Loss: 0.03\n",
            "Epoch 7 DONE\n",
            "Train error :14.484223365783691\n",
            "Validation error :7.415474891662598\n",
            "Validation accuracy :98.71666666666667\n",
            "\n",
            "\n",
            "Epoch 8/15: Epoch Loss: 0.07\n",
            "Epoch 8/15: Epoch Loss: 0.02\n",
            "Epoch 8/15: Epoch Loss: 0.02\n",
            "Epoch 8/15: Epoch Loss: 0.01\n",
            "Epoch 8 DONE\n",
            "Train error :13.282511711120605\n",
            "Validation error :8.187143325805664\n",
            "Validation accuracy :98.65\n",
            "\n",
            "\n",
            "Epoch 9/15: Epoch Loss: 0.01\n",
            "Epoch 9/15: Epoch Loss: 0.00\n",
            "Epoch 9/15: Epoch Loss: 0.00\n",
            "Epoch 9 DONE\n",
            "Train error :11.727155685424805\n",
            "Validation error :7.406257152557373\n",
            "Validation accuracy :98.73333333333333\n",
            "\n",
            "\n",
            "Epoch 10/15: Epoch Loss: 0.02\n",
            "Epoch 10/15: Epoch Loss: 0.01\n",
            "Epoch 10/15: Epoch Loss: 0.03\n",
            "Epoch 10/15: Epoch Loss: 0.01\n",
            "Epoch 10 DONE\n",
            "Train error :14.117905616760254\n",
            "Validation error :8.340463638305664\n",
            "Validation accuracy :98.65\n",
            "\n",
            "\n",
            "Epoch 11/15: Epoch Loss: 0.05\n",
            "Epoch 11/15: Epoch Loss: 0.01\n",
            "Epoch 11/15: Epoch Loss: 0.04\n",
            "Epoch 11/15: Epoch Loss: 0.00\n",
            "Epoch 11 DONE\n",
            "Train error :7.7076029777526855\n",
            "Validation error :6.346787929534912\n",
            "Validation accuracy :98.9\n",
            "\n",
            "\n",
            "Epoch 12/15: Epoch Loss: 0.01\n",
            "Epoch 12/15: Epoch Loss: 0.02\n",
            "Epoch 12/15: Epoch Loss: 0.01\n",
            "Epoch 12/15: Epoch Loss: 0.02\n",
            "Epoch 12 DONE\n",
            "Train error :8.348932266235352\n",
            "Validation error :7.181230068206787\n",
            "Validation accuracy :98.78333333333333\n",
            "\n",
            "\n",
            "Epoch 13/15: Epoch Loss: 0.03\n",
            "Epoch 13/15: Epoch Loss: 0.00\n",
            "Epoch 13/15: Epoch Loss: 0.03\n",
            "Epoch 13 DONE\n",
            "Train error :8.283943176269531\n",
            "Validation error :7.142899513244629\n",
            "Validation accuracy :98.875\n",
            "\n",
            "\n",
            "Epoch 14/15: Epoch Loss: 0.00\n",
            "Epoch 14/15: Epoch Loss: 0.00\n",
            "Epoch 14/15: Epoch Loss: 0.01\n",
            "Epoch 14/15: Epoch Loss: 0.01\n",
            "Epoch 14 DONE\n",
            "Train error :9.040785789489746\n",
            "Validation error :7.3868088722229\n",
            "Validation accuracy :98.73333333333333\n",
            "\n",
            "\n",
            "Epoch 15/15: Epoch Loss: 0.00\n",
            "Epoch 15/15: Epoch Loss: 0.02\n",
            "Epoch 15/15: Epoch Loss: 0.04\n",
            "Epoch 15/15: Epoch Loss: 0.00\n",
            "Epoch 15 DONE\n",
            "Train error :8.439323425292969\n",
            "Validation error :7.326049327850342\n",
            "Validation accuracy :98.74166666666666\n",
            "\n",
            "\n"
          ]
        }
      ]
    },
    {
      "cell_type": "code",
      "source": [
        "test_acc = acc(test_loader,model,cft=False)\n",
        "print(f'Accuracy on blind test data :{test_acc}')"
      ],
      "metadata": {
        "colab": {
          "base_uri": "https://localhost:8080/"
        },
        "id": "mW5DAWtPf4jo",
        "outputId": "e5adf113-2fee-47b4-99ea-6c8abc86bd97"
      },
      "execution_count": 42,
      "outputs": [
        {
          "output_type": "stream",
          "name": "stdout",
          "text": [
            "Accuracy on blind test data :98.98\n"
          ]
        }
      ]
    },
    {
      "cell_type": "code",
      "source": [
        "plt.figure(figsize=(9,6))\n",
        "plt.plot(torch.tensor(losses[0]).detach().numpy(),label='train')\n",
        "plt.plot(torch.tensor(losses[1]).detach().numpy(),label='validation')\n",
        "plt.legend()\n",
        "plt.title('Train and validation error')"
      ],
      "metadata": {
        "colab": {
          "base_uri": "https://localhost:8080/",
          "height": 408
        },
        "id": "Vn6NENS0SrZw",
        "outputId": "cad3a7af-ed16-4f90-eecf-8eeea2624494"
      },
      "execution_count": 16,
      "outputs": [
        {
          "output_type": "execute_result",
          "data": {
            "text/plain": [
              "Text(0.5, 1.0, 'Train and validation error')"
            ]
          },
          "metadata": {},
          "execution_count": 16
        },
        {
          "output_type": "display_data",
          "data": {
            "text/plain": [
              "<Figure size 648x432 with 1 Axes>"
            ],
            "image/png": "[encoded data removed]"
          },
          "metadata": {
            "needs_background": "light"
          }
        }
      ]
    },
    {
      "cell_type": "code",
      "source": [
        "plt.figure(figsize=(9,6))\n",
        "plt.plot(torch.tensor(losses[3]).detach().numpy(),label='accuracy')\n",
        "plt.legend()\n",
        "plt.title('prediction accuracy')"
      ],
      "metadata": {
        "colab": {
          "base_uri": "https://localhost:8080/",
          "height": 408
        },
        "id": "aZ7V0baqTsPB",
        "outputId": "a3921fbf-589e-4904-c75f-2b4b7380a315"
      },
      "execution_count": 18,
      "outputs": [
        {
          "output_type": "execute_result",
          "data": {
            "text/plain": [
              "Text(0.5, 1.0, 'prediction accuracy')"
            ]
          },
          "metadata": {},
          "execution_count": 18
        },
        {
          "output_type": "display_data",
          "data": {
            "text/plain": [
              "<Figure size 648x432 with 1 Axes>"
            ],
            "image/png": "[encoded data removed]"
          },
          "metadata": {
            "needs_background": "light"
          }
        }
      ]
    },
    {
      "cell_type": "code",
      "source": [
        "classes = ['0','1','2','3','4','5','6','7','8','9']\n",
        "def predict_image(img,model):\n",
        "  return torch.max(model(img.to(device)),1)[1]\n",
        "\n",
        "np.random.seed(42)\n",
        "random_idx = np.random.uniform(0,1,3)*10000\n",
        "for i in random_idx:\n",
        "  img, label = test_data[int(i)]\n",
        "  plt.figure()\n",
        "  plt.imshow(img[0],cmap='gray')\n",
        "  plt.title(f'Label:{classes[label]}, Predicted: {classes[predict_image(img.reshape((1,1,28,28)), model)]}')\n",
        "  plt.show()\n",
        "  "
      ],
      "metadata": {
        "colab": {
          "base_uri": "https://localhost:8080/",
          "height": 809
        },
        "id": "jQicATc2KutX",
        "outputId": "fa7d3f11-22b6-41d7-ca64-9853ecbe57fe"
      },
      "execution_count": 21,
      "outputs": [
        {
          "output_type": "display_data",
          "data": {
            "text/plain": [
              "<Figure size 432x288 with 1 Axes>"
            ],
            "image/png": "[encoded data removed]"
          },
          "metadata": {
            "needs_background": "light"
          }
        },
        {
          "output_type": "display_data",
          "data": {
            "text/plain": [
              "<Figure size 432x288 with 1 Axes>"
            ],
            "image/png": "[encoded data removed]"
          },
          "metadata": {
            "needs_background": "light"
          }
        },
        {
          "output_type": "display_data",
          "data": {
            "text/plain": [
              "<Figure size 432x288 with 1 Axes>"
            ],
            "image/png": "[encoded data removed]"
          },
          "metadata": {
            "needs_background": "light"
          }
        }
      ]
    },
    {
      "cell_type": "code",
      "source": [
        "summary(model,(1,28,28))"
      ],
      "metadata": {
        "colab": {
          "base_uri": "https://localhost:8080/"
        },
        "id": "U0QkAohfPyEG",
        "outputId": "5ccec657-e10d-4f86-d724-9e111f4d36cf"
      },
      "execution_count": 24,
      "outputs": [
        {
          "output_type": "stream",
          "name": "stdout",
          "text": [
            "----------------------------------------------------------------\n",
            "        Layer (type)               Output Shape         Param #\n",
            "================================================================\n",
            "            Conv2d-1           [-1, 32, 28, 28]             320\n",
            "              ReLU-2           [-1, 32, 28, 28]               0\n",
            "            Conv2d-3           [-1, 32, 14, 14]           9,248\n",
            "              ReLU-4           [-1, 32, 14, 14]               0\n",
            "            Linear-5                  [-1, 500]         784,500\n",
            "              ReLU-6                  [-1, 500]               0\n",
            "            Linear-7                   [-1, 10]           5,010\n",
            "================================================================\n",
            "Total params: 799,078\n",
            "Trainable params: 799,078\n",
            "Non-trainable params: 0\n",
            "----------------------------------------------------------------\n",
            "Input size (MB): 0.00\n",
            "Forward/backward pass size (MB): 0.49\n",
            "Params size (MB): 3.05\n",
            "Estimated Total Size (MB): 3.54\n",
            "----------------------------------------------------------------\n"
          ]
        }
      ]
    },
    {
      "cell_type": "markdown",
      "source": [
        "The above summary chart indicates the input and output size at each layer.\n",
        "\n",
        "It also has the total number of parameters which is equal to 799,078.\n",
        "Of which 9568 are in conv layers while 789,510 are in fully connected layers.\n",
        "\n",
        "Number of neurons in conv layers = 32*28*28+32*14*14 = 31360\n",
        "Number of neurons in fully connected layers = 510\n",
        "Total number of neurons = 31870. This is computed without considering input neurons or maxpool layers"
      ],
      "metadata": {
        "id": "3y10kBVvUv85"
      }
    },
    {
      "cell_type": "code",
      "source": [],
      "metadata": {
        "id": "zGaqVfSaomGF"
      },
      "execution_count": null,
      "outputs": []
    },
    {
      "cell_type": "code",
      "source": [
        "class CNN_bn(nn.Module):\n",
        "  def __init__(self):\n",
        "    super(CNN_bn, self).__init__()\n",
        "    self.conv1 = nn.Conv2d(1, 32, kernel_size=3,padding=1)\n",
        "    self.bn1 = nn.BatchNorm2d(32)\n",
        "    self.conv2 = nn.Conv2d(32, 32, kernel_size=3,padding=1)\n",
        "    self.bn2 = nn.BatchNorm2d(32)\n",
        "    self.fc1   = nn.Linear(49*32, 500)\n",
        "    self.fc2   = nn.Linear(500, 10)\n",
        "\n",
        "    self.activ = nn.ReLU()\n",
        "    self.softmax = nn.Softmax(dim=0)\n",
        "\n",
        "  def pool(self, x, kernel_size=2):\n",
        "    out = Fn.max_pool2d(x, kernel_size, stride=2)\n",
        "    return out\n",
        "\n",
        "  def forward(self, x):\n",
        "    out = self.activ(self.bn1(self.conv1(x)))\n",
        "    out = self.pool(out)\n",
        "    out = self.activ(self.bn2(self.conv2(out)))\n",
        "    out = self.pool(out)\n",
        "    out = out.reshape(out.size(0), -1)\n",
        "    out = self.activ(self.fc1(out))\n",
        "    out = self.fc2(out)\n",
        "    #out = self.softmax(out)\n",
        "    return out"
      ],
      "metadata": {
        "id": "icq11Qv2r-n9"
      },
      "execution_count": 36,
      "outputs": []
    },
    {
      "cell_type": "code",
      "source": [
        "model_bn = CNN_bn().to(device)\n",
        "#model.apply(init_wb)\n",
        "loss_fn = nn.CrossEntropyLoss()\n",
        "optimiser = torch.optim.SGD(model_bn.parameters(), lr=1e-2, momentum=0.9, weight_decay=5e-4)"
      ],
      "metadata": {
        "id": "xzSfxaSzKX0t"
      },
      "execution_count": 37,
      "outputs": []
    },
    {
      "cell_type": "code",
      "source": [
        "losses = train(model_bn,train_loader,loss_fn,optimiser)"
      ],
      "metadata": {
        "colab": {
          "base_uri": "https://localhost:8080/"
        },
        "id": "BT4NpS8Tah6j",
        "outputId": "f07cb380-54fa-425a-e39b-22ad7bd85298"
      },
      "execution_count": 38,
      "outputs": [
        {
          "output_type": "stream",
          "name": "stdout",
          "text": [
            "Epoch 1/15: Epoch Loss: 0.06\n",
            "Epoch 1/15: Epoch Loss: 0.05\n",
            "Epoch 1/15: Epoch Loss: 0.07\n",
            "Epoch 1 DONE\n",
            "Train error :32.745361328125\n",
            "Validation error :9.529009819030762\n",
            "Validation accuracy :98.4\n",
            "\n",
            "\n",
            "Epoch 2/15: Epoch Loss: 0.14\n",
            "Epoch 2/15: Epoch Loss: 0.06\n",
            "Epoch 2/15: Epoch Loss: 0.04\n",
            "Epoch 2/15: Epoch Loss: 0.02\n",
            "Epoch 2 DONE\n",
            "Train error :22.893543243408203\n",
            "Validation error :7.93277645111084\n",
            "Validation accuracy :98.69166666666666\n",
            "\n",
            "\n",
            "Epoch 3/15: Epoch Loss: 0.02\n",
            "Epoch 3/15: Epoch Loss: 0.05\n",
            "Epoch 3/15: Epoch Loss: 0.00\n",
            "Epoch 3/15: Epoch Loss: 0.01\n",
            "Epoch 3 DONE\n",
            "Train error :22.27903175354004\n",
            "Validation error :8.723517417907715\n",
            "Validation accuracy :98.60833333333333\n",
            "\n",
            "\n",
            "Epoch 4/15: Epoch Loss: 0.01\n",
            "Epoch 4/15: Epoch Loss: 0.03\n",
            "Epoch 4/15: Epoch Loss: 0.02\n",
            "Epoch 4/15: Epoch Loss: 0.00\n",
            "Epoch 4 DONE\n",
            "Train error :13.603838920593262\n",
            "Validation error :6.7693305015563965\n",
            "Validation accuracy :98.91666666666667\n",
            "\n",
            "\n",
            "Epoch 5/15: Epoch Loss: 0.02\n",
            "Epoch 5/15: Epoch Loss: 0.00\n",
            "Epoch 5/15: Epoch Loss: 0.04\n",
            "Epoch 5 DONE\n",
            "Train error :10.679465293884277\n",
            "Validation error :6.754479885101318\n",
            "Validation accuracy :98.825\n",
            "\n",
            "\n",
            "Epoch 6/15: Epoch Loss: 0.00\n",
            "Epoch 6/15: Epoch Loss: 0.00\n",
            "Epoch 6/15: Epoch Loss: 0.01\n",
            "Epoch 6/15: Epoch Loss: 0.02\n",
            "Epoch 6 DONE\n",
            "Train error :7.833069801330566\n",
            "Validation error :5.952770709991455\n",
            "Validation accuracy :98.875\n",
            "\n",
            "\n",
            "Epoch 7/15: Epoch Loss: 0.02\n",
            "Epoch 7/15: Epoch Loss: 0.00\n",
            "Epoch 7/15: Epoch Loss: 0.00\n",
            "Epoch 7/15: Epoch Loss: 0.00\n",
            "Epoch 7 DONE\n",
            "Train error :8.579767227172852\n",
            "Validation error :6.148162841796875\n",
            "Validation accuracy :98.975\n",
            "\n",
            "\n",
            "Epoch 8/15: Epoch Loss: 0.00\n",
            "Epoch 8/15: Epoch Loss: 0.00\n",
            "Epoch 8/15: Epoch Loss: 0.04\n",
            "Epoch 8/15: Epoch Loss: 0.01\n",
            "Epoch 8 DONE\n",
            "Train error :5.656783103942871\n",
            "Validation error :5.6649861335754395\n",
            "Validation accuracy :99.025\n",
            "\n",
            "\n",
            "Epoch 9/15: Epoch Loss: 0.04\n",
            "Epoch 9/15: Epoch Loss: 0.00\n",
            "Epoch 9/15: Epoch Loss: 0.01\n",
            "Epoch 9 DONE\n",
            "Train error :5.977051258087158\n",
            "Validation error :6.087249279022217\n",
            "Validation accuracy :98.96666666666667\n",
            "\n",
            "\n",
            "Epoch 10/15: Epoch Loss: 0.02\n",
            "Epoch 10/15: Epoch Loss: 0.01\n",
            "Epoch 10/15: Epoch Loss: 0.01\n",
            "Epoch 10/15: Epoch Loss: 0.00\n",
            "Epoch 10 DONE\n",
            "Train error :4.607863903045654\n",
            "Validation error :5.414852619171143\n",
            "Validation accuracy :99.09166666666667\n",
            "\n",
            "\n",
            "Epoch 11/15: Epoch Loss: 0.00\n",
            "Epoch 11/15: Epoch Loss: 0.01\n",
            "Epoch 11/15: Epoch Loss: 0.00\n",
            "Epoch 11/15: Epoch Loss: 0.00\n",
            "Epoch 11 DONE\n",
            "Train error :4.146633148193359\n",
            "Validation error :5.776998043060303\n",
            "Validation accuracy :99.10833333333333\n",
            "\n",
            "\n",
            "Epoch 12/15: Epoch Loss: 0.01\n",
            "Epoch 12/15: Epoch Loss: 0.00\n",
            "Epoch 12/15: Epoch Loss: 0.00\n",
            "Epoch 12/15: Epoch Loss: 0.01\n",
            "Epoch 12 DONE\n",
            "Train error :3.21962833404541\n",
            "Validation error :5.300364971160889\n",
            "Validation accuracy :99.06666666666666\n",
            "\n",
            "\n",
            "Epoch 13/15: Epoch Loss: 0.00\n",
            "Epoch 13/15: Epoch Loss: 0.00\n",
            "Epoch 13/15: Epoch Loss: 0.04\n",
            "Epoch 13 DONE\n",
            "Train error :3.0262351036071777\n",
            "Validation error :5.08335018157959\n",
            "Validation accuracy :99.15833333333333\n",
            "\n",
            "\n",
            "Epoch 14/15: Epoch Loss: 0.00\n",
            "Epoch 14/15: Epoch Loss: 0.00\n",
            "Epoch 14/15: Epoch Loss: 0.01\n",
            "Epoch 14/15: Epoch Loss: 0.00\n",
            "Epoch 14 DONE\n",
            "Train error :2.439075469970703\n",
            "Validation error :5.198270320892334\n",
            "Validation accuracy :99.2\n",
            "\n",
            "\n",
            "Epoch 15/15: Epoch Loss: 0.00\n",
            "Epoch 15/15: Epoch Loss: 0.00\n",
            "Epoch 15/15: Epoch Loss: 0.00\n",
            "Epoch 15/15: Epoch Loss: 0.00\n",
            "Epoch 15 DONE\n",
            "Train error :2.609128713607788\n",
            "Validation error :5.358500003814697\n",
            "Validation accuracy :99.06666666666666\n",
            "\n",
            "\n"
          ]
        }
      ]
    },
    {
      "cell_type": "code",
      "source": [
        "test_acc = acc(test_loader,model_bn,cft=False)\n",
        "print(f'Accuracy on blind test data :{test_acc}')"
      ],
      "metadata": {
        "colab": {
          "base_uri": "https://localhost:8080/"
        },
        "id": "nBJJ-wN8cNnV",
        "outputId": "8de0461a-ec9a-451b-9805-7a50d8e269be"
      },
      "execution_count": 39,
      "outputs": [
        {
          "output_type": "stream",
          "name": "stdout",
          "text": [
            "Accuracy on blind test data :99.19\n"
          ]
        }
      ]
    },
    {
      "cell_type": "markdown",
      "source": [
        "Apart from a slight increase in test accuracy,one visible difference is with the training convergence time, after each epoch the train loss for network trained with batch norm is much less than the network trained without batch norm.\n",
        "\n",
        "So, which means the network converges faster with batch norm. Batch norm smoothens the optimisation landscape which could be the reason for faster convergence rates."
      ],
      "metadata": {
        "id": "lpqOf5nfb-S7"
      }
    },
    {
      "cell_type": "code",
      "source": [],
      "metadata": {
        "id": "A3h71LlHfq9W"
      },
      "execution_count": null,
      "outputs": []
    }
  ]
}